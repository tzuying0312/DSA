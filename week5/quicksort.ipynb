{
 "cells": [
  {
   "cell_type": "markdown",
   "metadata": {},
   "source": [
    "## HW1_Quick Sort\n",
    "\n",
    "## 問題描述\n",
    "\n",
    "快速排序使用分治法（Divide and conquer）策略來把一個序列（list）分為較小和較大的2個子序列，然後遞迴地排序兩個子序列。\n",
    "\n",
    "## 程式架構設計說明\n",
    "\n",
    "1. 創建3個list(與pivot比較時做分割)\n",
    "  * left=[ ]\n",
    "  * right=[ ]\n",
    "  * keylist=[ ]\n",
    "  \n",
    "2. 挑選基準值(pivot):固定在最後一位\n",
    "   * pivot=list[-1]\n",
    "\n",
    "3. 分割(與pivot比大小) \n",
    "    (1) for迴圈跑list中的每一元素\n",
    "        * for i in list\n",
    "    (2) if、else比較元素與pivot的大小\n",
    "        * if i<pivot\n",
    "        * elif i>pivot\n",
    "        * else:\n",
    "    (3) append到對應的list\n",
    "       * .append(i)\n",
    "   \n",
    "    \n",
    "4. 將left、right丟回quicksort，直到每個list剩一個值就回傳\n",
    "    * left=quicksort(left)\n",
    "    * right=quicksort(right)\n",
    "    * return left+pivotlist+right\n",
    "    \n",
    "## 流程圖\n",
    "\n",
    "![GITHUB](/photo/quicksort%20Diagram.png)\n",
    "\n"
   ]
  },
  {
   "cell_type": "code",
   "execution_count": 8,
   "metadata": {},
   "outputs": [],
   "source": [
    "def quicksort(list):\n",
    "    #創建3個list\n",
    "    left=[]\n",
    "    right=[]\n",
    "    pivotlist=[]\n",
    "    \n",
    "    if len(list)<=1: \n",
    "    #若list的長度為1或空，則回傳list本身\n",
    "        return list\n",
    "    else:\n",
    "        pivot=list[-1] \n",
    "        #基準值(pivot)設定在list的最後一位\n",
    "        for i in list: \n",
    "        #for迴圈跑list中的每一元素\n",
    "            if i<pivot: \n",
    "            #小於pivot，將值加入到名稱為left的list\n",
    "                left.append(i)\n",
    "            elif i>pivot:\n",
    "            #大於pivot，將值加入到名稱為right的list\n",
    "                right.append(i)\n",
    "            else:\n",
    "            #等於pivot，將值加入到名稱為pivotlist的list\n",
    "                pivotlist.append(i)\n",
    "    left=quicksort(left)\n",
    "    #left尚未排序完成，進入quicksort\n",
    "    right=quicksort(right)\n",
    "    #right尚未排序完成，進入quicksort\n",
    "    return left+pivotlist+right\n",
    "    #直到每個list剩一個值就回傳，否則繼續"
   ]
  },
  {
   "cell_type": "markdown",
   "metadata": {},
   "source": [
    "## 測試值使用範例"
   ]
  },
  {
   "cell_type": "code",
   "execution_count": 9,
   "metadata": {},
   "outputs": [
    {
     "data": {
      "text/plain": [
       "[17, 19, 20, 31, 44, 54, 55, 77]"
      ]
     },
     "execution_count": 9,
     "metadata": {},
     "output_type": "execute_result"
    }
   ],
   "source": [
    "lista=[54,19,17,77,31,44,55,20]\n",
    "quicksort(lista)"
   ]
  },
  {
   "cell_type": "code",
   "execution_count": 10,
   "metadata": {},
   "outputs": [
    {
     "data": {
      "text/plain": [
       "[2, 2, 12, 23, 43, 56, 65, 90]"
      ]
     },
     "execution_count": 10,
     "metadata": {},
     "output_type": "execute_result"
    }
   ],
   "source": [
    "listb=[2,43,56,12,65,90,23,2]\n",
    "quicksort(listb)"
   ]
  },
  {
   "cell_type": "markdown",
   "metadata": {},
   "source": [
    "## 其他補充說明\n",
    "1. 時間複製度，最差O(n2)與平均時間O(nlog2n)。\n",
    "2. 需要額外堆疊空間。\n",
    "3. 為不穩定排序。\n",
    "4. 快速排序是平均時間最快之內部排序法。"
   ]
  }
 ],
 "metadata": {
  "kernelspec": {
   "display_name": "Python 3",
   "language": "python",
   "name": "python3"
  },
  "language_info": {
   "codemirror_mode": {
    "name": "ipython",
    "version": 3
   },
   "file_extension": ".py",
   "mimetype": "text/x-python",
   "name": "python",
   "nbconvert_exporter": "python",
   "pygments_lexer": "ipython3",
   "version": "3.7.1"
  }
 },
 "nbformat": 4,
 "nbformat_minor": 2
}
