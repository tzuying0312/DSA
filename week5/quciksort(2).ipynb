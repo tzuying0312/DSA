{
 "cells": [
  {
   "cell_type": "markdown",
   "metadata": {},
   "source": [
    "   ## 程式碼"
   ]
  },
  {
   "cell_type": "code",
   "execution_count": 458,
   "metadata": {},
   "outputs": [],
   "source": [
    "def quicksort(list):\n",
    "    if len(list)<2: #長度小於2回傳\n",
    "        return list\n",
    "    else:\n",
    "        k=-1\n",
    "        i=len(list)-1 #從最後一元素開始比較\n",
    "        pivot=list[k]\n",
    "        while (i<len(list) and i>=0): \n",
    "        #while跑元素，因為i為遞減，因此設立i不能為負\n",
    "            j=list[i]\n",
    "            if j>pivot:\n",
    "                list.insert(len(list),list.pop(i))\n",
    "                #若元素大於基準點，直接在list中移動位置，移至最後一位(基準點的右方)\n",
    "                k=k-1\n",
    "                #由於將元素移動至最後，因此基準點往前一位\n",
    "            i-=1\n",
    "            #從最後一位開始往前比較\n",
    "    return quicksort(list[0:k])+quicksort(list[k:])"
   ]
  },
  {
   "cell_type": "code",
   "execution_count": 459,
   "metadata": {},
   "outputs": [
    {
     "data": {
      "text/plain": [
       "[3, 7, 8, 15, 30]"
      ]
     },
     "execution_count": 459,
     "metadata": {},
     "output_type": "execute_result"
    }
   ],
   "source": [
    "lista=[7,3,8,30,15]\n",
    "quicksort(lista)"
   ]
  },
  {
   "cell_type": "code",
   "execution_count": 460,
   "metadata": {},
   "outputs": [
    {
     "data": {
      "text/plain": [
       "[2, 12, 23, 43, 56, 65, 90]"
      ]
     },
     "execution_count": 460,
     "metadata": {},
     "output_type": "execute_result"
    }
   ],
   "source": [
    "listb=[2,43,56,12,65,90,23]\n",
    "quicksort(listb)"
   ]
  },
  {
   "cell_type": "markdown",
   "metadata": {},
   "source": [
    "## 以下為想法以及錯誤的過程及原因"
   ]
  },
  {
   "cell_type": "markdown",
   "metadata": {},
   "source": [
    "只創建一個list\n",
    "若比基準大，就變動位置(移至基準點的右方)\n",
    "若比基準小，就移除此元素，新增到sort[]"
   ]
  },
  {
   "cell_type": "code",
   "execution_count": 451,
   "metadata": {},
   "outputs": [
    {
     "data": {
      "text/plain": [
       "[5, 8, 7, 5, 6, 2, 3]"
      ]
     },
     "execution_count": 451,
     "metadata": {},
     "output_type": "execute_result"
    }
   ],
   "source": [
    "#比基準大\n",
    "#理解移動位置(insert(增加)，pop(刪除))\n",
    "lista=[3,5,8,7,5,6,2]\n",
    "lista.insert(len(lista), lista.pop(0))\n",
    "lista"
   ]
  },
  {
   "cell_type": "code",
   "execution_count": 452,
   "metadata": {},
   "outputs": [
    {
     "data": {
      "text/plain": [
       "[3, 5, 8, 7]"
      ]
     },
     "execution_count": 452,
     "metadata": {},
     "output_type": "execute_result"
    }
   ],
   "source": [
    "#比基準小\n",
    "#pop(刪除)、append(增加)\n",
    "sorta=[]\n",
    "lista=[3,5,8,7]\n",
    "i=0\n",
    "while i<len(lista): \n",
    "    j=lista[i]\n",
    "    lista_pop=lista.pop(i)\n",
    "    sorta.append(j)\n",
    "i+=1\n",
    "sorta"
   ]
  },
  {
   "cell_type": "code",
   "execution_count": 453,
   "metadata": {},
   "outputs": [
    {
     "data": {
      "text/plain": [
       "[2, 3, 5, 8, 7, 6]"
      ]
     },
     "execution_count": 453,
     "metadata": {},
     "output_type": "execute_result"
    }
   ],
   "source": [
    "#在while中進行移動\n",
    "lista=[3,5,8,7,6,2]\n",
    "# a=len(list)\n",
    "for i in range(len(lista)-1):     \n",
    "    lista.insert(len(lista), lista.pop(0))\n",
    "lista"
   ]
  },
  {
   "cell_type": "markdown",
   "metadata": {},
   "source": [
    "合併想法\n",
    "錯誤原因:當list改變後，i仍然加1。代表會友元素沒跑到。\n",
    "ex:[3,5,8,7,6]\n",
    "1.此時pivot為6，i=0，j=3。\n",
    "2.接下來會移除3，並append到sort。\n",
    "3.list變為[5,8,7,6]\n",
    "4.i+1，i=1，此時比較元素為8\n",
    "5.略過5，因此錯誤"
   ]
  },
  {
   "cell_type": "code",
   "execution_count": 454,
   "metadata": {},
   "outputs": [],
   "source": [
    "#合併自己的想法\n",
    "def quicksort(list):\n",
    "    sort=[]\n",
    "    i=0\n",
    "    while i<len(list):\n",
    "        pivot=list[-1]\n",
    "        j=list[i]\n",
    "        if j>pivot:\n",
    "            list.insert(len(list),list.pop(0))\n",
    "        else:\n",
    "            list_pop=list.pop(i)\n",
    "            sort.append(j)\n",
    "        i+=1\n",
    "    #       return sort+list\n",
    "        print(sort+[list])   "
   ]
  },
  {
   "cell_type": "code",
   "execution_count": 455,
   "metadata": {},
   "outputs": [
    {
     "name": "stdout",
     "output_type": "stream",
     "text": [
      "[7, [8, 30, 2, 15]]\n",
      "[7, [30, 2, 15, 8]]\n",
      "[7, [2, 15, 8, 30]]\n",
      "[7, 30, [2, 15, 8]]\n"
     ]
    }
   ],
   "source": [
    "a=[7,8,30,2,15]\n",
    "quicksort(a)"
   ]
  },
  {
   "cell_type": "markdown",
   "metadata": {},
   "source": [
    "詢問同學後，他建議不要創建新的list，直接在list中移動。\n",
    "錯誤原因\n",
    "1.i一直-1，因此不會有低於長度的可能\n",
    "2.quicksort(list[k+1:])，若k為-1，k+1=0，也就是回到最原始的list"
   ]
  },
  {
   "cell_type": "code",
   "execution_count": 456,
   "metadata": {},
   "outputs": [],
   "source": [
    "def quicksort(list):\n",
    "    if len(list)<2: \n",
    "        return list\n",
    "    else:\n",
    "        k=-1\n",
    "        i=len(list)-1\n",
    "        pivot=list[k]\n",
    "        while i<len(list):\n",
    "            j=list[i]\n",
    "            if j>pivot:\n",
    "                list.insert(len(list),list.pop(i))\n",
    "                k=k-1\n",
    "            i-=1\n",
    "    return quicksort(list[0:k])+[pivot]+quicksort(list[k+1:])"
   ]
  },
  {
   "cell_type": "code",
   "execution_count": 457,
   "metadata": {},
   "outputs": [
    {
     "ename": "IndexError",
     "evalue": "list index out of range",
     "output_type": "error",
     "traceback": [
      "\u001b[1;31m---------------------------------------------------------------------------\u001b[0m",
      "\u001b[1;31mIndexError\u001b[0m                                Traceback (most recent call last)",
      "\u001b[1;32m<ipython-input-457-296a34119497>\u001b[0m in \u001b[0;36m<module>\u001b[1;34m\u001b[0m\n\u001b[0;32m      1\u001b[0m \u001b[0mlista\u001b[0m\u001b[1;33m=\u001b[0m\u001b[1;33m[\u001b[0m\u001b[1;36m7\u001b[0m\u001b[1;33m,\u001b[0m\u001b[1;36m3\u001b[0m\u001b[1;33m,\u001b[0m\u001b[1;36m8\u001b[0m\u001b[1;33m,\u001b[0m\u001b[1;36m30\u001b[0m\u001b[1;33m,\u001b[0m\u001b[1;36m15\u001b[0m\u001b[1;33m]\u001b[0m\u001b[1;33m\u001b[0m\u001b[1;33m\u001b[0m\u001b[0m\n\u001b[1;32m----> 2\u001b[1;33m \u001b[0mquicksort\u001b[0m\u001b[1;33m(\u001b[0m\u001b[0mlista\u001b[0m\u001b[1;33m)\u001b[0m\u001b[1;33m\u001b[0m\u001b[1;33m\u001b[0m\u001b[0m\n\u001b[0m",
      "\u001b[1;32m<ipython-input-456-9ca0445ea4fa>\u001b[0m in \u001b[0;36mquicksort\u001b[1;34m(list)\u001b[0m\n\u001b[0;32m      7\u001b[0m         \u001b[0mpivot\u001b[0m\u001b[1;33m=\u001b[0m\u001b[0mlist\u001b[0m\u001b[1;33m[\u001b[0m\u001b[0mk\u001b[0m\u001b[1;33m]\u001b[0m\u001b[1;33m\u001b[0m\u001b[1;33m\u001b[0m\u001b[0m\n\u001b[0;32m      8\u001b[0m         \u001b[1;32mwhile\u001b[0m \u001b[0mi\u001b[0m\u001b[1;33m<\u001b[0m\u001b[0mlen\u001b[0m\u001b[1;33m(\u001b[0m\u001b[0mlist\u001b[0m\u001b[1;33m)\u001b[0m\u001b[1;33m:\u001b[0m\u001b[1;33m\u001b[0m\u001b[1;33m\u001b[0m\u001b[0m\n\u001b[1;32m----> 9\u001b[1;33m             \u001b[0mj\u001b[0m\u001b[1;33m=\u001b[0m\u001b[0mlist\u001b[0m\u001b[1;33m[\u001b[0m\u001b[0mi\u001b[0m\u001b[1;33m]\u001b[0m\u001b[1;33m\u001b[0m\u001b[1;33m\u001b[0m\u001b[0m\n\u001b[0m\u001b[0;32m     10\u001b[0m             \u001b[1;32mif\u001b[0m \u001b[0mj\u001b[0m\u001b[1;33m>\u001b[0m\u001b[0mpivot\u001b[0m\u001b[1;33m:\u001b[0m\u001b[1;33m\u001b[0m\u001b[1;33m\u001b[0m\u001b[0m\n\u001b[0;32m     11\u001b[0m                 \u001b[0mlist\u001b[0m\u001b[1;33m.\u001b[0m\u001b[0minsert\u001b[0m\u001b[1;33m(\u001b[0m\u001b[0mlen\u001b[0m\u001b[1;33m(\u001b[0m\u001b[0mlist\u001b[0m\u001b[1;33m)\u001b[0m\u001b[1;33m,\u001b[0m\u001b[0mlist\u001b[0m\u001b[1;33m.\u001b[0m\u001b[0mpop\u001b[0m\u001b[1;33m(\u001b[0m\u001b[0mi\u001b[0m\u001b[1;33m)\u001b[0m\u001b[1;33m)\u001b[0m\u001b[1;33m\u001b[0m\u001b[1;33m\u001b[0m\u001b[0m\n",
      "\u001b[1;31mIndexError\u001b[0m: list index out of range"
     ]
    }
   ],
   "source": [
    "lista=[7,3,8,30,15]\n",
    "quicksort(lista)"
   ]
  },
  {
   "cell_type": "code",
   "execution_count": null,
   "metadata": {},
   "outputs": [],
   "source": []
  }
 ],
 "metadata": {
  "kernelspec": {
   "display_name": "Python 3",
   "language": "python",
   "name": "python3"
  },
  "language_info": {
   "codemirror_mode": {
    "name": "ipython",
    "version": 3
   },
   "file_extension": ".py",
   "mimetype": "text/x-python",
   "name": "python",
   "nbconvert_exporter": "python",
   "pygments_lexer": "ipython3",
   "version": "3.7.1"
  }
 },
 "nbformat": 4,
 "nbformat_minor": 2
}
