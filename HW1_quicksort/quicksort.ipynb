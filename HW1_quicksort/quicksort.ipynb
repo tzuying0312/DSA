{
 "cells": [
  {
   "cell_type": "code",
   "execution_count": 6,
   "metadata": {},
   "outputs": [],
   "source": [
    "def quicksort(list):\n",
    "    left=[]\n",
    "    right=[]\n",
    "    keylist=[]\n",
    "    if len(list)<=1:\n",
    "        return list\n",
    "    else:\n",
    "        key=list[-1]\n",
    "        for i in list:\n",
    "            if i<key:\n",
    "                left.append(i)\n",
    "            elif i>key:\n",
    "                right.append(i)\n",
    "            else:\n",
    "                keylist.append(i)\n",
    "    left=quicksort(left)\n",
    "    right=quicksort(right)\n",
    "    #print(left+keylist+right)\n",
    "    return left+keylist+right"
   ]
  },
  {
   "cell_type": "code",
   "execution_count": 7,
   "metadata": {},
   "outputs": [],
   "source": [
    "a=[54,26,19,17,77,31,44,55,20]"
   ]
  },
  {
   "cell_type": "code",
   "execution_count": 8,
   "metadata": {},
   "outputs": [
    {
     "data": {
      "text/plain": [
       "[17, 19, 20, 26, 31, 44, 54, 55, 77]"
      ]
     },
     "execution_count": 8,
     "metadata": {},
     "output_type": "execute_result"
    }
   ],
   "source": [
    "quicksort(a)"
   ]
  },
  {
   "cell_type": "code",
   "execution_count": null,
   "metadata": {},
   "outputs": [],
   "source": []
  }
 ],
 "metadata": {
  "kernelspec": {
   "display_name": "Python 3",
   "language": "python",
   "name": "python3"
  },
  "language_info": {
   "codemirror_mode": {
    "name": "ipython",
    "version": 3
   },
   "file_extension": ".py",
   "mimetype": "text/x-python",
   "name": "python",
   "nbconvert_exporter": "python",
   "pygments_lexer": "ipython3",
   "version": "3.7.1"
  }
 },
 "nbformat": 4,
 "nbformat_minor": 2
}
