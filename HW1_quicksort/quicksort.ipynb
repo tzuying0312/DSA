{
 "cells": [
  {
   "cell_type": "markdown",
   "metadata": {},
   "source": [
    "## HW1_Quick Sort\n",
    "* 創建3個list\n",
    "  * left=[]\n",
    "  * right=[]\n",
    "  * keylist=[]\n",
    "* 設置一個key(list的最後一個位置)\n",
    "* 與key比較大小\n",
    "    *  key>，放到left(利用append方法)\n",
    "    *  key=，放到keylist(利用append方法)\n",
    "    *  key<，放到right(利用append方法)\n",
    "* 將left、right丟回Quick Sort，直到array剩一個值，最後合併\n",
    "* 將想法畫成圖 \n",
    "![GITHUB](https://github.com/tzuying0312/Learning-Code/tree/master/HW1_quicksort/photo/quicksort%20Diagram.png)"
   ]
  },
  {
   "cell_type": "code",
   "execution_count": 14,
   "metadata": {},
   "outputs": [],
   "source": [
    "def quicksort(array):\n",
    "    left=[]\n",
    "    right=[]\n",
    "    keylist=[]\n",
    "    if len(array)<=1:\n",
    "        return array\n",
    "    else:\n",
    "        key=array[-1]\n",
    "        for i in array:\n",
    "            if i<key:\n",
    "                left.append(i)\n",
    "            elif i>key:\n",
    "                right.append(i)\n",
    "            else:\n",
    "                keylist.append(i)\n",
    "    left=quicksort(left)\n",
    "    right=quicksort(right)\n",
    "    return left+keylist+right"
   ]
  },
  {
   "cell_type": "code",
   "execution_count": 15,
   "metadata": {},
   "outputs": [
    {
     "data": {
      "text/plain": [
       "[17, 19, 20, 26, 31, 44, 54, 55, 77]"
      ]
     },
     "execution_count": 15,
     "metadata": {},
     "output_type": "execute_result"
    }
   ],
   "source": [
    "a=[54,26,19,17,77,31,44,55,20]\n",
    "quicksort(a)"
   ]
  }
 ],
 "metadata": {
  "kernelspec": {
   "display_name": "Python 3",
   "language": "python",
   "name": "python3"
  },
  "language_info": {
   "codemirror_mode": {
    "name": "ipython",
    "version": 3
   },
   "file_extension": ".py",
   "mimetype": "text/x-python",
   "name": "python",
   "nbconvert_exporter": "python",
   "pygments_lexer": "ipython3",
   "version": "3.7.1"
  }
 },
 "nbformat": 4,
 "nbformat_minor": 2
}
